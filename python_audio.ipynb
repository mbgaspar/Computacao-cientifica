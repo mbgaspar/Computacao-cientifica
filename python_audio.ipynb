{
  "nbformat": 4,
  "nbformat_minor": 0,
  "metadata": {
    "kernelspec": {
      "display_name": "Python 3",
      "language": "python",
      "name": "python3"
    },
    "language_info": {
      "codemirror_mode": {
        "name": "ipython",
        "version": 3
      },
      "file_extension": ".py",
      "mimetype": "text/x-python",
      "name": "python",
      "nbconvert_exporter": "python",
      "pygments_lexer": "ipython3",
      "version": "3.8.5"
    },
    "colab": {
      "name": "python-audio.ipynb",
      "provenance": [],
      "include_colab_link": true
    }
  },
  "cells": [
    {
      "cell_type": "markdown",
      "metadata": {
        "id": "view-in-github",
        "colab_type": "text"
      },
      "source": [
        "<a href=\"https://colab.research.google.com/github/mbgaspar/Computacao-cientifica/blob/master/python_audio.ipynb\" target=\"_parent\"><img src=\"https://colab.research.google.com/assets/colab-badge.svg\" alt=\"Open In Colab\"/></a>"
      ]
    },
    {
      "cell_type": "markdown",
      "metadata": {
        "id": "mMNgzX7b6XyD"
      },
      "source": [
        "# Python e Áudio: Exemplos"
      ]
    },
    {
      "cell_type": "markdown",
      "metadata": {
        "id": "PZxJEzjZ6XyG"
      },
      "source": [
        "Exemplos são do livro _IPython Cookbook_, 2a. ed., disponível em https://github.com/ipython-books/cookbook-2nd/blob/master/chapter11_image/07_synth.md"
      ]
    },
    {
      "cell_type": "markdown",
      "metadata": {
        "id": "vZOQdM_Q6XyH"
      },
      "source": [
        "Primeiro, o carregamento dos módulos necessários"
      ]
    },
    {
      "cell_type": "code",
      "metadata": {
        "id": "xO7qqmoY6XyI"
      },
      "source": [
        "                                                                                                                                                                                                                                                                                                                                                                                                                                                                                                                                                                                                                                                                                                                                                                                                                                                                                                                                                                                                                                                                                                                                                                                                                                                                                                                                                                                                                                                                                                                                                                                                                                                                                                                                                                                                                                                                                                                                                                                                                                                                                                                                                                                                                                                                                                                                                                                                                                                                                                                                                                                                                                                                                                                                                                                                                                                                                                                                                                                                                                                                                                                                                                                                                                                                                                                                                                                                                                                                                                                                                                                                                                                                                                                                                                                                                                                                                                                                                                                                                                                                                                                                                                                                                                                                                                                                                                                                                                                                                                                                                                                                                                                                                                                                                                                                                                                                                                                                                                                                                                                                                                                                                                                                                                                                                                                                                                                                                                                                                                                                                                                                                                                                                                                                                                                                                                                                                                                                                                                                                                                                                                                                                                                                             import numpy as np # para usar funções que lidam com vetore\n",
        "import matplotlib.pyplot as plt # para desenho\n",
        "from IPython.display import (Audio, display, clear_output) # widget com os botões de play, volume e download\n",
        "%matplotlib inline"
      ],
      "execution_count": null,
      "outputs": []
    },
    {
      "cell_type": "markdown",
      "metadata": {
        "id": "tRk3hADC6XyK"
      },
      "source": [
        "Definição da função $x(n)=\\sin(2\\pi {n \\over N})$"
      ]
    },
    {
      "cell_type": "code",
      "metadata": {
        "id": "qmXpUdVK6XyK"
      },
      "source": [
        "def synth(freq, duration, fs):\n",
        "    t = np.linspace(0., duration, int(fs * duration))\n",
        "    x = np.sin(freq * 2. * np.pi * t)\n",
        "    display(Audio(x, rate=fs, autoplay=True)) # para mostrar o widget\n",
        "    return x"
      ],
      "execution_count": null,
      "outputs": []
    },
    {
      "cell_type": "markdown",
      "metadata": {
        "id": "EqEzozDy6XyL"
      },
      "source": [
        "Chamada da função"
      ]
    },
    {
      "cell_type": "code",
      "metadata": {
        "podoc": {
          "output_text": "Sound widget"
        },
        "id": "iyp2exPE6XyM"
      },
      "source": [
        "s=synth(330, .2, 8000)"
      ],
      "execution_count": null,
      "outputs": []
    },
    {
      "cell_type": "markdown",
      "metadata": {
        "id": "3GPNeDgU6XyM"
      },
      "source": [
        "Mostrando o sinal na tela"
      ]
    },
    {
      "cell_type": "code",
      "metadata": {
        "id": "uAkYVQz46XyO"
      },
      "source": [
        "plt.plot(s)"
      ],
      "execution_count": null,
      "outputs": []
    },
    {
      "cell_type": "markdown",
      "metadata": {
        "id": "jJHF2fsn6XyO"
      },
      "source": [
        "Também é possível criar um gráfico com botões para controle de zoom usando `%matplotlib notebook`. Conferir https://medium.com/@1522933668924/using-matplotlib-in-jupyter-notebooks-comparing-methods-and-some-tips-python-c38e85b40ba1"
      ]
    },
    {
      "cell_type": "code",
      "metadata": {
        "id": "Z58rfobp6XyP"
      },
      "source": [
        "%matplotlib notebook\n",
        "plt.plot(s)"
      ],
      "execution_count": null,
      "outputs": []
    },
    {
      "cell_type": "markdown",
      "metadata": {
        "id": "nAstmcxE6XyP"
      },
      "source": [
        "A linguagem de _markup_ usada no Jupyter é o _Markdown_. Aqui tem um resumo:  https://www.ibm.com/support/knowledgecenter/SSQNUZ_3.5.0/wsj/analyze-data/markd-jupyter.html"
      ]
    },
    {
      "cell_type": "markdown",
      "metadata": {
        "id": "RteqWW396XyP"
      },
      "source": [
        "## Ler e salvar arquivos de áudio"
      ]
    },
    {
      "cell_type": "markdown",
      "metadata": {
        "id": "5z092_JR6XyP"
      },
      "source": [
        "Para carregar arquivos de áudio, recomendo `scipy.io.wavfile.read`. Existe um módulo chamado librosa, mas a leitura de arquivos é um pouco estranha, porque assume que os sinais tem taxa de amostragem de 22050 Hz."
      ]
    },
    {
      "cell_type": "code",
      "metadata": {
        "id": "31q9P6Rl6XyQ"
      },
      "source": [
        "# Use scipy.io.wavfile.read\n",
        "from scipy.io import wavfile\n",
        "fs, x = wavfile.read('teste-sweep-200Hz-2kHz.wav')\n",
        "print(fs)\n",
        "# Gravar para wav usando scipy.io.wavfile.write"
      ],
      "execution_count": null,
      "outputs": []
    },
    {
      "cell_type": "code",
      "metadata": {
        "scrolled": true,
        "id": "zPkjE6H26XyQ"
      },
      "source": [
        "type(x)"
      ],
      "execution_count": null,
      "outputs": []
    },
    {
      "cell_type": "code",
      "metadata": {
        "scrolled": true,
        "id": "HozMxR7J6XyQ"
      },
      "source": [
        "plt.plot(x)"
      ],
      "execution_count": null,
      "outputs": []
    },
    {
      "cell_type": "markdown",
      "metadata": {
        "id": "kaAFYxWz6XyQ"
      },
      "source": [
        "# Exercícios\n",
        "1. Use a função synth definida neste arquivo para gerar um sinal senoidal. Grave o arquivo e abra no Ocenaudio para conferir.\n",
        "2. Desenhe um período desse sinal senoidal com cor verde. Escreva no eixo x \"amostras\" e no eixo y, \"amplitude\".\n",
        "3. Desenhe no mesmo gráfico o sinal invertido (multiplique por -1), com cor vermelha e tracejado.\n",
        "4. Refaça o desenho, mas agora ajuste o eixo x para mostrar o tempo e não em amostras."
      ]
    }
  ]
}